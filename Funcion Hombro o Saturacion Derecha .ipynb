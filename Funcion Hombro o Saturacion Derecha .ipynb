{
 "cells": [
  {
   "cell_type": "code",
   "execution_count": 1,
   "metadata": {
    "collapsed": false
   },
   "outputs": [
    {
     "data": {
      "text/plain": [
       "[<matplotlib.lines.Line2D at 0x66d4c18>]"
      ]
     },
     "execution_count": 1,
     "metadata": {},
     "output_type": "execute_result"
    },
    {
     "data": {
      "image/png": "[encoded data removed]",
      "text/plain": [
       "<matplotlib.figure.Figure at 0x3ad3390>"
      ]
     },
     "metadata": {},
     "output_type": "display_data"
    }
   ],
   "source": [
    "\n",
    "get_ipython().magic(u'matplotlib inline')\n",
    "import numpy as np\n",
    "import matplotlib.pyplot as plt\n",
    "\n",
    "x=np.linspace(0,100)\n",
    "\n",
    "alfa=0.935\n",
    "beta=50\n",
    "\n",
    "def f(x,alfa,beta):\n",
    "    if (x<=alfa):\n",
    "        \n",
    "        p=0\n",
    "   \n",
    "    if (alfa<=x)&(x<=beta):\n",
    "        p=(x-beta)/(alfa-beta)\n",
    "    \n",
    "    if (x>=beta):\n",
    "        p=1\n",
    "   \n",
    "    return p\n",
    "\n",
    "plt.xlabel('Valores de X')\n",
    "plt.ylabel('Valores de Y')\n",
    "plt.title('Funcion Tipo Hombro o Saturacion Derecha')\n",
    "\n",
    "f_vec = np.vectorize(f)\n",
    "func=f_vec(x,alfa,beta)\n",
    "plt.plot(x,f_vec(x,alfa,beta),'c:>')\n"
   ]
  },
  {
   "cell_type": "code",
   "execution_count": null,
   "metadata": {
    "collapsed": true
   },
   "outputs": [],
   "source": []
  }
 ],
 "metadata": {
  "kernelspec": {
   "display_name": "Python [Root]",
   "language": "python",
   "name": "Python [Root]"
  },
  "language_info": {
   "codemirror_mode": {
    "name": "ipython",
    "version": 2
   },
   "file_extension": ".py",
   "mimetype": "text/x-python",
   "name": "python",
   "nbconvert_exporter": "python",
   "pygments_lexer": "ipython2",
   "version": "2.7.12"
  }
 },
 "nbformat": 4,
 "nbformat_minor": 0
}
