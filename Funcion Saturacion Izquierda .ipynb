{
 "cells": [
  {
   "cell_type": "code",
   "execution_count": 1,
   "metadata": {
    "collapsed": false
   },
   "outputs": [
    {
     "data": {
      "text/plain": [
       "[<matplotlib.lines.Line2D at 0x67b44e0>]"
      ]
     },
     "execution_count": 1,
     "metadata": {},
     "output_type": "execute_result"
    },
    {
     "data": {
      "image/png": "[encoded data removed]",
      "text/plain": [
       "<matplotlib.figure.Figure at 0x38dfbe0>"
      ]
     },
     "metadata": {},
     "output_type": "display_data"
    }
   ],
   "source": [
    "\n",
    "get_ipython().magic(u'matplotlib inline')\n",
    "import numpy as np\n",
    "import matplotlib.pyplot as plt\n",
    "\n",
    "x=np.linspace(0,100)\n",
    "\n",
    "a=10\n",
    "b=30\n",
    "c=60\n",
    "d=70\n",
    "\n",
    "def f(x,a,b,c,d):\n",
    "    \n",
    "    if (x<a)|(x>=c):\n",
    "        m=0;\n",
    "   \n",
    "    if (x>=a)&(x<b):\n",
    "        m=(x-a)/(b-a)\n",
    "    \n",
    "    if (x>=b)&(x<d):\n",
    "        m=1\n",
    "    \n",
    "    if (x>=d)&(x<c):\n",
    "        m=1-(x-d)/(c-d)\n",
    "    return m\n",
    "\n",
    "plt.xlabel('Valores de X')\n",
    "plt.ylabel('Valores de Y')\n",
    "plt.title('Funcion Tipo Saturacion Izquierda (PI)')\n",
    "\n",
    "\n",
    "f_vec = np.vectorize(f)\n",
    "func=f_vec(x,a,b,c,d)\n",
    "plt.plot(x,f_vec(x,a,b,c,d),'y:o')\n",
    "\n"
   ]
  },
  {
   "cell_type": "code",
   "execution_count": null,
   "metadata": {
    "collapsed": true
   },
   "outputs": [],
   "source": []
  }
 ],
 "metadata": {
  "kernelspec": {
   "display_name": "Python [Root]",
   "language": "python",
   "name": "Python [Root]"
  },
  "language_info": {
   "codemirror_mode": {
    "name": "ipython",
    "version": 2
   },
   "file_extension": ".py",
   "mimetype": "text/x-python",
   "name": "python",
   "nbconvert_exporter": "python",
   "pygments_lexer": "ipython2",
   "version": "2.7.12"
  }
 },
 "nbformat": 4,
 "nbformat_minor": 0
}
