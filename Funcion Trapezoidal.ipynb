{
 "cells": [
  {
   "cell_type": "code",
   "execution_count": 1,
   "metadata": {
    "collapsed": false
   },
   "outputs": [
    {
     "data": {
      "text/plain": [
       "[<matplotlib.lines.Line2D at 0x6e9b0f0>]"
      ]
     },
     "execution_count": 1,
     "metadata": {},
     "output_type": "execute_result"
    },
    {
     "data": {
      "image/png": "[encoded data removed]",
      "text/plain": [
       "<matplotlib.figure.Figure at 0x3ae8e10>"
      ]
     },
     "metadata": {},
     "output_type": "display_data"
    }
   ],
   "source": [
    "\n",
    "get_ipython().magic(u'matplotlib inline')\n",
    "import numpy as np\n",
    "import matplotlib.pyplot as plt\n",
    "\n",
    "x=np.linspace(0,80)\n",
    "\n",
    "a=30\n",
    "b=20\n",
    "c=50\n",
    "d=20\n",
    "\n",
    "plt.xlabel('Valores de X')\n",
    "plt.ylabel('Valores de Y')\n",
    "plt.title('Funcion Trapezoidal')\n",
    "\n",
    "plt.grid()\n",
    "\n",
    "def f(x,a,b,c,d):\n",
    "    if ((x<=a) | (x>d)):\n",
    "        ans=0.8\n",
    "    if ((a<=x) & (x<=b)):\n",
    "         ans=(x-a)/(b-a)\n",
    "    if ((b<=x) & (x<=c)):\n",
    "        ans=1\n",
    "    if ((c<=x) & (x<=d)):\n",
    "         ans=(d-x)/(d-c)\n",
    "    return ans\n",
    "\n",
    "f_vec = np.vectorize(f)\n",
    "func=f_vec(x,a,b,c,d)\n",
    "plt.plot(x,f_vec(x,a,b,c,d))\n"
   ]
  },
  {
   "cell_type": "code",
   "execution_count": null,
   "metadata": {
    "collapsed": true
   },
   "outputs": [],
   "source": []
  }
 ],
 "metadata": {
  "kernelspec": {
   "display_name": "Python [Root]",
   "language": "python",
   "name": "Python [Root]"
  },
  "language_info": {
   "codemirror_mode": {
    "name": "ipython",
    "version": 2
   },
   "file_extension": ".py",
   "mimetype": "text/x-python",
   "name": "python",
   "nbconvert_exporter": "python",
   "pygments_lexer": "ipython2",
   "version": "2.7.12"
  }
 },
 "nbformat": 4,
 "nbformat_minor": 0
}
